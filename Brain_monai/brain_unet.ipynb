{
 "cells": [
  {
   "cell_type": "markdown",
   "metadata": {},
   "source": [
    "## Imports"
   ]
  },
  {
   "cell_type": "code",
   "execution_count": 1,
   "metadata": {},
   "outputs": [],
   "source": [
    "import os\n",
    "import shutil\n",
    "import tempfile\n",
    "\n",
    "import matplotlib.pyplot as plt\n",
    "\n",
    "from monai.inferers import sliding_window_inference\n",
    "from monai.config import print_config\n",
    "\n",
    "\n",
    "import torch\n",
    "#import pytorch_lightning\n",
    "import lightning\n",
    "from lightning.pytorch.callbacks.model_checkpoint import ModelCheckpoint\n",
    "from lightning.pytorch.callbacks.early_stopping import EarlyStopping\n",
    "\n",
    "from monai_unet import Net\n"
   ]
  },
  {
   "cell_type": "code",
   "execution_count": 2,
   "metadata": {},
   "outputs": [
    {
     "name": "stdout",
     "output_type": "stream",
     "text": [
      "device =  cuda\n"
     ]
    }
   ],
   "source": [
    "os.environ[\"CUDA_DEVICE_ORDER\"] = \"PCI_BUS_ID\"\n",
    "device = torch.device(\"cuda\" if torch.cuda.is_available() else \"cpu\")\n",
    "print(\"device = \", device)\n",
    "torch.backends.cudnn.benchmark = True"
   ]
  },
  {
   "cell_type": "code",
   "execution_count": 9,
   "metadata": {},
   "outputs": [],
   "source": [
    "PATH = \"C:\\\\awilde\\\\britta\\\\LTU\\\\DataMining\\\\Data\\\\Task01_BrainTumour\\\\\""
   ]
  },
  {
   "cell_type": "markdown",
   "metadata": {},
   "source": [
    "## Run the training"
   ]
  },
  {
   "cell_type": "code",
   "execution_count": 3,
   "metadata": {},
   "outputs": [],
   "source": [
    "torch.set_float32_matmul_precision('medium')\n",
    "os.environ[\"KMP_DUPLICATE_LIB_OK\"]=\"TRUE\""
   ]
  },
  {
   "cell_type": "code",
   "execution_count": 4,
   "metadata": {},
   "outputs": [
    {
     "name": "stderr",
     "output_type": "stream",
     "text": [
      "GPU available: True (cuda), used: True\n",
      "TPU available: False, using: 0 TPU cores\n",
      "HPU available: False, using: 0 HPUs\n",
      "c:\\awilde\\britta\\LTU\\DataMining\\DataMiningProjectWork\\.conda\\Lib\\site-packages\\monai\\utils\\deprecate_utils.py:321: FutureWarning: monai.transforms.croppad.dictionary CropForegroundd.__init__:allow_smaller: Current default value of argument `allow_smaller=True` has been deprecated since version 1.2. It will be changed to `allow_smaller=False` in version 1.5.\n",
      "  warn_deprecated(argname, msg, warning_category)\n",
      "Loading dataset: 100%|██████████| 387/387 [02:03<00:00,  3.13it/s]\n",
      "Loading dataset: 100%|██████████| 48/48 [00:15<00:00,  3.12it/s]\n",
      "Loading dataset: 100%|██████████| 49/49 [00:41<00:00,  1.17it/s]\n",
      "c:\\awilde\\britta\\LTU\\DataMining\\DataMiningProjectWork\\.conda\\Lib\\site-packages\\lightning\\pytorch\\callbacks\\model_checkpoint.py:654: Checkpoint directory C:\\awilde\\britta\\LTU\\DataMining\\DataMiningProjectWork\\heart_data_lightning_models exists and is not empty.\n",
      "LOCAL_RANK: 0 - CUDA_VISIBLE_DEVICES: [0]\n",
      "\n",
      "  | Name          | Type       | Params | Mode \n",
      "-----------------------------------------------------\n",
      "0 | _model        | UNet       | 4.8 M  | train\n",
      "1 | loss_function | DiceCELoss | 0      | train\n",
      "-----------------------------------------------------\n",
      "4.8 M     Trainable params\n",
      "0         Non-trainable params\n",
      "4.8 M     Total params\n",
      "19.254    Total estimated model params size (MB)\n",
      "148       Modules in train mode\n",
      "0         Modules in eval mode\n"
     ]
    },
    {
     "name": "stdout",
     "output_type": "stream",
     "text": [
      "Sanity Checking DataLoader 0: 100%|██████████| 2/2 [00:02<00:00,  0.72it/s]current epoch: 0 current val_loss: 32.126953125 current mean dice: 0.0155\n",
      "best mean dice: 0.0155 at epoch: 0\n",
      "Epoch 0: 100%|██████████| 387/387 [00:27<00:00, 13.89it/s, v_num=12]       current epoch: 0 current val_loss: 1.1520357131958008 current mean dice: 0.0633\n",
      "best mean dice: 0.0633 at epoch: 0\n",
      "Epoch 1: 100%|██████████| 387/387 [00:11<00:00, 33.80it/s, v_num=12]current epoch: 1 current val_loss: 0.8702502250671387 current mean dice: 0.1189\n",
      "best mean dice: 0.1189 at epoch: 1\n",
      "Epoch 2: 100%|██████████| 387/387 [00:12<00:00, 31.60it/s, v_num=12]current epoch: 2 current val_loss: 0.8975085616111755 current mean dice: 0.1332\n",
      "best mean dice: 0.1332 at epoch: 2\n",
      "Epoch 3: 100%|██████████| 387/387 [00:12<00:00, 30.16it/s, v_num=12]current epoch: 3 current val_loss: 0.7623852491378784 current mean dice: 0.1842\n",
      "best mean dice: 0.1842 at epoch: 3\n",
      "Epoch 4: 100%|██████████| 387/387 [00:22<00:00, 17.29it/s, v_num=12]current epoch: 4 current val_loss: 0.8619171977043152 current mean dice: 0.1654\n",
      "best mean dice: 0.1842 at epoch: 3\n",
      "Epoch 5: 100%|██████████| 387/387 [00:13<00:00, 29.54it/s, v_num=12]current epoch: 5 current val_loss: 0.7659702301025391 current mean dice: 0.2305\n",
      "best mean dice: 0.2305 at epoch: 5\n",
      "Epoch 6: 100%|██████████| 387/387 [00:12<00:00, 32.15it/s, v_num=12]current epoch: 6 current val_loss: 0.7242864966392517 current mean dice: 0.2434\n",
      "best mean dice: 0.2434 at epoch: 6\n",
      "Epoch 7: 100%|██████████| 387/387 [00:12<00:00, 30.66it/s, v_num=12]current epoch: 7 current val_loss: 0.7218758463859558 current mean dice: 0.2553\n",
      "best mean dice: 0.2553 at epoch: 7\n",
      "Epoch 8: 100%|██████████| 387/387 [00:11<00:00, 33.89it/s, v_num=12]current epoch: 8 current val_loss: 0.6954693794250488 current mean dice: 0.2492\n",
      "best mean dice: 0.2553 at epoch: 7\n",
      "Epoch 9: 100%|██████████| 387/387 [00:10<00:00, 35.34it/s, v_num=12]current epoch: 9 current val_loss: 0.7898463010787964 current mean dice: 0.2895\n",
      "best mean dice: 0.2895 at epoch: 9\n",
      "Epoch 9: 100%|██████████| 387/387 [00:12<00:00, 31.39it/s, v_num=12]"
     ]
    },
    {
     "name": "stderr",
     "output_type": "stream",
     "text": [
      "`Trainer.fit` stopped: `max_epochs=10` reached.\n"
     ]
    },
    {
     "name": "stdout",
     "output_type": "stream",
     "text": [
      "Epoch 9: 100%|██████████| 387/387 [00:12<00:00, 30.14it/s, v_num=12]\n"
     ]
    }
   ],
   "source": [
    "# initialise the LightningModule\n",
    "net = Net(device=device, datadir= PATH, in_channels=4, out_channels=4, augmentation=False)\n",
    "\n",
    "# set up checkpoints\n",
    "# TODO model callback set when val_loss lowest\n",
    "checkpoint_callback = ModelCheckpoint(dirpath=\"./heart_data_lightning_models/\", filename='{epoch}-{val_loss:.2f}-{val_dice:.2f}', monitor=\"val_dice\", mode=\"max\")\n",
    "early_stopping_callback = EarlyStopping(monitor=\"val_loss\", mode=\"min\", patience=5)\n",
    "max_epochs = 10\n",
    "\n",
    "# initialise Lightning's trainer.\n",
    "trainer = lightning.Trainer(\n",
    "    devices=[0],\n",
    "    max_epochs=max_epochs,\n",
    "    callbacks=[checkpoint_callback, early_stopping_callback],\n",
    "    log_every_n_steps=4,\n",
    ")\n",
    "\n",
    "# train\n",
    "trainer.fit(net)"
   ]
  },
  {
   "cell_type": "markdown",
   "metadata": {},
   "source": [
    "## Plot the loss and dice metric"
   ]
  },
  {
   "cell_type": "code",
   "execution_count": 6,
   "metadata": {},
   "outputs": [
    {
     "data": {
      "image/png": "[encoded data removed]",
      "text/plain": [
       "<Figure size 1200x600 with 3 Axes>"
      ]
     },
     "metadata": {},
     "output_type": "display_data"
    }
   ],
   "source": [
    "plt.figure(\"train\", (12, 6))\n",
    "plt.subplot(1, 3, 1)\n",
    "plt.title(\"Average Loss per Epoch Training\")\n",
    "x = [i for i in range(0,len(net.epoch_train_loss))]\n",
    "y = net.epoch_train_loss\n",
    "plt.xlabel(\"Epochs\")\n",
    "plt.plot(x, y)\n",
    "plt.subplot(1, 3, 2)\n",
    "plt.title(\"Average Loss per Epoch Validation\")\n",
    "# skip first epoch for validation loss as it is very high\n",
    "x = [i for i in range(0,len(net.epoch_val_loss)-1)]\n",
    "y = net.epoch_val_loss[1:]\n",
    "plt.xlabel(\"Epochs\")\n",
    "plt.plot(x, y)\n",
    "plt.subplot(1, 3, 3)\n",
    "plt.title(\"Val Mean Dice\")\n",
    "x = [i for i in range(0,len(net.metric_values))]\n",
    "y = net.metric_values\n",
    "plt.xlabel(\"Epochs\")\n",
    "plt.plot(x, y)\n",
    "plt.show()"
   ]
  },
  {
   "cell_type": "markdown",
   "metadata": {},
   "source": [
    "## Test model on unseen data"
   ]
  },
  {
   "cell_type": "code",
   "execution_count": 7,
   "metadata": {},
   "outputs": [
    {
     "name": "stderr",
     "output_type": "stream",
     "text": [
      "c:\\awilde\\britta\\LTU\\DataMining\\DataMiningProjectWork\\.conda\\Lib\\site-packages\\lightning\\pytorch\\trainer\\connectors\\checkpoint_connector.py:145: `.test(ckpt_path=None)` was called without a model. The best model of the previous `fit` call will be used. You can pass `.test(ckpt_path='best')` to use the best model or `.test(ckpt_path='last')` to use the last model. If you pass a value, this warning will be silenced.\n",
      "Loading dataset: 100%|██████████| 387/387 [02:14<00:00,  2.89it/s]\n",
      "Loading dataset: 100%|██████████| 48/48 [00:17<00:00,  2.74it/s]\n",
      "Loading dataset: 100%|██████████| 49/49 [00:53<00:00,  1.09s/it]\n",
      "Restoring states from the checkpoint path at C:\\awilde\\britta\\LTU\\DataMining\\DataMiningProjectWork\\heart_data_lightning_models\\epoch=9-val_loss=0.79-val_dice=0.29.ckpt\n",
      "LOCAL_RANK: 0 - CUDA_VISIBLE_DEVICES: [0]\n",
      "Loaded model weights from the checkpoint at C:\\awilde\\britta\\LTU\\DataMining\\DataMiningProjectWork\\heart_data_lightning_models\\epoch=9-val_loss=0.79-val_dice=0.29.ckpt\n"
     ]
    },
    {
     "name": "stdout",
     "output_type": "stream",
     "text": [
      "Testing DataLoader 0: 100%|██████████| 49/49 [00:01<00:00, 35.66it/s]Loss on test set: 0.6944481730461121, dice metric on test set: 0.2571004629135132\n",
      "Testing DataLoader 0: 100%|██████████| 49/49 [00:01<00:00, 35.31it/s]\n"
     ]
    },
    {
     "data": {
      "text/plain": [
       "[{}]"
      ]
     },
     "execution_count": 7,
     "metadata": {},
     "output_type": "execute_result"
    }
   ],
   "source": [
    "# this will print the avg loss and dice metric on the test set\n",
    "trainer.test()"
   ]
  },
  {
   "cell_type": "markdown",
   "metadata": {},
   "source": [
    "## Load model from checkpoint to plot predictions"
   ]
  },
  {
   "cell_type": "code",
   "execution_count": 12,
   "metadata": {},
   "outputs": [
    {
     "name": "stderr",
     "output_type": "stream",
     "text": [
      "c:\\awilde\\britta\\LTU\\DataMining\\DataMiningProjectWork\\.conda\\Lib\\site-packages\\monai\\utils\\deprecate_utils.py:321: FutureWarning: monai.transforms.croppad.dictionary CropForegroundd.__init__:allow_smaller: Current default value of argument `allow_smaller=True` has been deprecated since version 1.2. It will be changed to `allow_smaller=False` in version 1.5.\n",
      "  warn_deprecated(argname, msg, warning_category)\n",
      "Loading dataset: 100%|██████████| 387/387 [02:12<00:00,  2.91it/s]\n",
      "Loading dataset: 100%|██████████| 48/48 [00:16<00:00,  2.89it/s]\n",
      "Loading dataset: 100%|██████████| 49/49 [00:50<00:00,  1.04s/it]\n"
     ]
    }
   ],
   "source": [
    "model = Net.load_from_checkpoint(checkpoint_callback.best_model_path, device = device, in_channels=4, out_channels=4, augmentation=False, datadir = PATH)\n",
    "model.eval()\n",
    "model.to(device)\n",
    "model.prepare_data()"
   ]
  },
  {
   "cell_type": "code",
   "execution_count": 14,
   "metadata": {},
   "outputs": [
    {
     "ename": "RuntimeError",
     "evalue": "CUDA error: unknown error\nCUDA kernel errors might be asynchronously reported at some other API call, so the stacktrace below might be incorrect.\nFor debugging consider passing CUDA_LAUNCH_BLOCKING=1\nCompile with `TORCH_USE_CUDA_DSA` to enable device-side assertions.\n",
     "output_type": "error",
     "traceback": [
      "\u001b[1;31m---------------------------------------------------------------------------\u001b[0m",
      "\u001b[1;31mRuntimeError\u001b[0m                              Traceback (most recent call last)",
      "Cell \u001b[1;32mIn[14], line 11\u001b[0m\n\u001b[0;32m      8\u001b[0m \u001b[38;5;28;01mif\u001b[39;00m i \u001b[38;5;241m==\u001b[39m\u001b[38;5;241m2\u001b[39m:\n\u001b[0;32m      9\u001b[0m     \u001b[38;5;28;01mbreak\u001b[39;00m\n\u001b[0;32m     10\u001b[0m val_inputs, val_labels \u001b[38;5;241m=\u001b[39m (\n\u001b[1;32m---> 11\u001b[0m     \u001b[43mval_data\u001b[49m\u001b[43m[\u001b[49m\u001b[38;5;124;43m\"\u001b[39;49m\u001b[38;5;124;43mimage\u001b[39;49m\u001b[38;5;124;43m\"\u001b[39;49m\u001b[43m]\u001b[49m\u001b[38;5;241;43m.\u001b[39;49m\u001b[43mto\u001b[49m\u001b[43m(\u001b[49m\u001b[43mdevice\u001b[49m\u001b[43m)\u001b[49m,\n\u001b[0;32m     12\u001b[0m     val_data[\u001b[38;5;124m\"\u001b[39m\u001b[38;5;124mlabel\u001b[39m\u001b[38;5;124m\"\u001b[39m]\u001b[38;5;241m.\u001b[39mto(device),\n\u001b[0;32m     13\u001b[0m )\n\u001b[0;32m     14\u001b[0m images\u001b[38;5;241m.\u001b[39mappend(val_inputs)\n\u001b[0;32m     15\u001b[0m outputs\u001b[38;5;241m.\u001b[39mappend(model\u001b[38;5;241m.\u001b[39mforward(val_inputs))\n",
      "File \u001b[1;32mc:\\awilde\\britta\\LTU\\DataMining\\DataMiningProjectWork\\.conda\\Lib\\site-packages\\monai\\data\\meta_tensor.py:282\u001b[0m, in \u001b[0;36mMetaTensor.__torch_function__\u001b[1;34m(cls, func, types, args, kwargs)\u001b[0m\n\u001b[0;32m    280\u001b[0m \u001b[38;5;28;01mif\u001b[39;00m kwargs \u001b[38;5;129;01mis\u001b[39;00m \u001b[38;5;28;01mNone\u001b[39;00m:\n\u001b[0;32m    281\u001b[0m     kwargs \u001b[38;5;241m=\u001b[39m {}\n\u001b[1;32m--> 282\u001b[0m ret \u001b[38;5;241m=\u001b[39m \u001b[38;5;28;43msuper\u001b[39;49m\u001b[43m(\u001b[49m\u001b[43m)\u001b[49m\u001b[38;5;241;43m.\u001b[39;49m\u001b[43m__torch_function__\u001b[49m\u001b[43m(\u001b[49m\u001b[43mfunc\u001b[49m\u001b[43m,\u001b[49m\u001b[43m \u001b[49m\u001b[43mtypes\u001b[49m\u001b[43m,\u001b[49m\u001b[43m \u001b[49m\u001b[43margs\u001b[49m\u001b[43m,\u001b[49m\u001b[43m \u001b[49m\u001b[43mkwargs\u001b[49m\u001b[43m)\u001b[49m\n\u001b[0;32m    283\u001b[0m \u001b[38;5;66;03m# if `out` has been used as argument, metadata is not copied, nothing to do.\u001b[39;00m\n\u001b[0;32m    284\u001b[0m \u001b[38;5;66;03m# if \"out\" in kwargs:\u001b[39;00m\n\u001b[0;32m    285\u001b[0m \u001b[38;5;66;03m#     return ret\u001b[39;00m\n\u001b[0;32m    286\u001b[0m \u001b[38;5;28;01mif\u001b[39;00m _not_requiring_metadata(ret):\n",
      "File \u001b[1;32mc:\\awilde\\britta\\LTU\\DataMining\\DataMiningProjectWork\\.conda\\Lib\\site-packages\\torch\\_tensor.py:1437\u001b[0m, in \u001b[0;36mTensor.__torch_function__\u001b[1;34m(cls, func, types, args, kwargs)\u001b[0m\n\u001b[0;32m   1434\u001b[0m     \u001b[38;5;28;01mreturn\u001b[39;00m \u001b[38;5;28mNotImplemented\u001b[39m\n\u001b[0;32m   1436\u001b[0m \u001b[38;5;28;01mwith\u001b[39;00m _C\u001b[38;5;241m.\u001b[39mDisableTorchFunctionSubclass():\n\u001b[1;32m-> 1437\u001b[0m     ret \u001b[38;5;241m=\u001b[39m \u001b[43mfunc\u001b[49m\u001b[43m(\u001b[49m\u001b[38;5;241;43m*\u001b[39;49m\u001b[43margs\u001b[49m\u001b[43m,\u001b[49m\u001b[43m \u001b[49m\u001b[38;5;241;43m*\u001b[39;49m\u001b[38;5;241;43m*\u001b[39;49m\u001b[43mkwargs\u001b[49m\u001b[43m)\u001b[49m\n\u001b[0;32m   1438\u001b[0m     \u001b[38;5;28;01mif\u001b[39;00m func \u001b[38;5;129;01min\u001b[39;00m get_default_nowrap_functions():\n\u001b[0;32m   1439\u001b[0m         \u001b[38;5;28;01mreturn\u001b[39;00m ret\n",
      "\u001b[1;31mRuntimeError\u001b[0m: CUDA error: unknown error\nCUDA kernel errors might be asynchronously reported at some other API call, so the stacktrace below might be incorrect.\nFor debugging consider passing CUDA_LAUNCH_BLOCKING=1\nCompile with `TORCH_USE_CUDA_DSA` to enable device-side assertions.\n"
     ]
    }
   ],
   "source": [
    "# make predictions\n",
    "images = []\n",
    "outputs = []\n",
    "labels = []\n",
    "val_loader = model.test_dataloader()\n",
    "#TODO only make predictions for some images?\n",
    "i = 0\n",
    "for val_data in val_loader: \n",
    "    if i ==2:\n",
    "        break\n",
    "    val_inputs, val_labels = (\n",
    "        val_data[\"image\"].to(device),\n",
    "        val_data[\"label\"].to(device),\n",
    "    )\n",
    "    images.append(val_inputs)\n",
    "    outputs.append(model.forward(val_inputs))\n",
    "    labels.append(val_labels)\n",
    "    i += 1"
   ]
  },
  {
   "cell_type": "code",
   "execution_count": null,
   "metadata": {},
   "outputs": [],
   "source": [
    "def plot_predictions(idx_of_image, outputs, images, labels):\n",
    "    # Assuming outputs, labels, and images are your variables\n",
    "    output = outputs[idx_of_image]\n",
    "    label = labels[idx_of_image][0][0]\n",
    "    image = images[idx_of_image][0][0]\n",
    "\n",
    "    # Set the slice range from 45 to 50\n",
    "    slice_start = 45\n",
    "    slice_end = 55\n",
    "\n",
    "    # Calculate the number of slices\n",
    "    num_slices = slice_end - slice_start\n",
    "\n",
    "    # Create a subplot with 'num_slices' rows and 3 columns\n",
    "    plt.figure(figsize=(15, 5 * num_slices))\n",
    "\n",
    "    for i in range(num_slices):\n",
    "        # Increment the slice index\n",
    "        current_slice = slice_start + i\n",
    "        \n",
    "        # Plot the Model Output\n",
    "        plt.subplot(num_slices, 3, 3 * i + 1)\n",
    "        with torch.no_grad():\n",
    "            plt.imshow(torch.argmax(output.cpu(), dim=1)[0, :, :, current_slice])\n",
    "        plt.title(f'Model Output - Slice {current_slice}')\n",
    "\n",
    "        # Plot the Label\n",
    "        plt.subplot(num_slices, 3, 3 * i + 2)\n",
    "        plt.imshow(label.cpu()[:, :, current_slice])\n",
    "        plt.title(f'Label - Slice {current_slice}')\n",
    "\n",
    "        # Plot the Input Image\n",
    "        plt.subplot(num_slices, 3, 3 * i + 3)\n",
    "        plt.imshow(image.cpu()[:, :, current_slice])\n",
    "        plt.title(f'Input Image - Slice {current_slice}')\n",
    "\n",
    "    # Adjust layout for better visualization\n",
    "    plt.tight_layout()\n",
    "\n",
    "    # Show the plots\n",
    "    plt.show()"
   ]
  },
  {
   "cell_type": "markdown",
   "metadata": {},
   "source": [
    "## Plot predictions"
   ]
  },
  {
   "cell_type": "code",
   "execution_count": null,
   "metadata": {},
   "outputs": [],
   "source": [
    "plot_predictions(0, outputs, images, labels)"
   ]
  }
 ],
 "metadata": {
  "kernelspec": {
   "display_name": "Python 3",
   "language": "python",
   "name": "python3"
  },
  "language_info": {
   "codemirror_mode": {
    "name": "ipython",
    "version": 3
   },
   "file_extension": ".py",
   "mimetype": "text/x-python",
   "name": "python",
   "nbconvert_exporter": "python",
   "pygments_lexer": "ipython3",
   "version": "3.11.9"
  }
 },
 "nbformat": 4,
 "nbformat_minor": 2
}
